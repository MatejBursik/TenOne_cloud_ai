{
 "cells": [
  {
   "cell_type": "code",
   "execution_count": 2,
   "metadata": {},
   "outputs": [
    {
     "name": "stdout",
     "output_type": "stream",
     "text": [
      "Collecting yfinance\n",
      "  Downloading yfinance-0.2.43-py2.py3-none-any.whl (84 kB)\n",
      "     ---------------------------------------- 84.6/84.6 kB 2.4 MB/s eta 0:00:00\n",
      "Requirement already satisfied: pytz>=2022.5 in c:\\users\\robve.laptop-pcbr1ujf\\desktop\\cloud ai\\cloudai\\venv\\lib\\site-packages (from yfinance) (2024.2)\n",
      "Collecting html5lib>=1.1\n",
      "  Downloading html5lib-1.1-py2.py3-none-any.whl (112 kB)\n",
      "     -------------------------------------- 112.2/112.2 kB 6.4 MB/s eta 0:00:00\n",
      "Requirement already satisfied: pandas>=1.3.0 in c:\\users\\robve.laptop-pcbr1ujf\\desktop\\cloud ai\\cloudai\\venv\\lib\\site-packages (from yfinance) (2.2.3)\n",
      "Requirement already satisfied: numpy>=1.16.5 in c:\\users\\robve.laptop-pcbr1ujf\\desktop\\cloud ai\\cloudai\\venv\\lib\\site-packages (from yfinance) (2.1.1)\n",
      "Collecting peewee>=3.16.2\n",
      "  Downloading peewee-3.17.6.tar.gz (3.0 MB)\n",
      "     ---------------------------------------- 3.0/3.0 MB 11.1 MB/s eta 0:00:00\n",
      "  Installing build dependencies: started\n",
      "  Installing build dependencies: finished with status 'done'\n",
      "  Getting requirements to build wheel: started\n",
      "  Getting requirements to build wheel: finished with status 'done'\n",
      "  Preparing metadata (pyproject.toml): started\n",
      "  Preparing metadata (pyproject.toml): finished with status 'done'\n",
      "Requirement already satisfied: platformdirs>=2.0.0 in c:\\users\\robve.laptop-pcbr1ujf\\desktop\\cloud ai\\cloudai\\venv\\lib\\site-packages (from yfinance) (4.3.6)\n",
      "Collecting lxml>=4.9.1\n",
      "  Downloading lxml-5.3.0-cp310-cp310-win_amd64.whl (3.8 MB)\n",
      "     ---------------------------------------- 3.8/3.8 MB 13.5 MB/s eta 0:00:00\n",
      "Collecting frozendict>=2.3.4\n",
      "  Downloading frozendict-2.4.4-cp310-cp310-win_amd64.whl (37 kB)\n",
      "Collecting multitasking>=0.0.7\n",
      "  Downloading multitasking-0.0.11-py3-none-any.whl (8.5 kB)\n",
      "Collecting requests>=2.31\n",
      "  Using cached requests-2.32.3-py3-none-any.whl (64 kB)\n",
      "Collecting beautifulsoup4>=4.11.1\n",
      "  Using cached beautifulsoup4-4.12.3-py3-none-any.whl (147 kB)\n",
      "Collecting soupsieve>1.2\n",
      "  Using cached soupsieve-2.6-py3-none-any.whl (36 kB)\n",
      "Requirement already satisfied: six>=1.9 in c:\\users\\robve.laptop-pcbr1ujf\\desktop\\cloud ai\\cloudai\\venv\\lib\\site-packages (from html5lib>=1.1->yfinance) (1.16.0)\n",
      "Collecting webencodings\n",
      "  Using cached webencodings-0.5.1-py2.py3-none-any.whl (11 kB)\n",
      "Requirement already satisfied: tzdata>=2022.7 in c:\\users\\robve.laptop-pcbr1ujf\\desktop\\cloud ai\\cloudai\\venv\\lib\\site-packages (from pandas>=1.3.0->yfinance) (2024.2)\n",
      "Requirement already satisfied: python-dateutil>=2.8.2 in c:\\users\\robve.laptop-pcbr1ujf\\desktop\\cloud ai\\cloudai\\venv\\lib\\site-packages (from pandas>=1.3.0->yfinance) (2.9.0.post0)\n",
      "Collecting certifi>=2017.4.17\n",
      "  Using cached certifi-2024.8.30-py3-none-any.whl (167 kB)\n",
      "Collecting charset-normalizer<4,>=2\n",
      "  Using cached charset_normalizer-3.3.2-cp310-cp310-win_amd64.whl (100 kB)\n",
      "Collecting urllib3<3,>=1.21.1\n",
      "  Using cached urllib3-2.2.3-py3-none-any.whl (126 kB)\n",
      "Collecting idna<4,>=2.5\n",
      "  Using cached idna-3.10-py3-none-any.whl (70 kB)\n",
      "Building wheels for collected packages: peewee\n",
      "  Building wheel for peewee (pyproject.toml): started\n",
      "  Building wheel for peewee (pyproject.toml): finished with status 'done'\n",
      "  Created wheel for peewee: filename=peewee-3.17.6-py3-none-any.whl size=138939 sha256=2cfe88fd8e48b123bcec1de90564e6bd9b9704e7b6ac1c80769e13c1a8169d99\n",
      "  Stored in directory: c:\\users\\robve.laptop-pcbr1ujf\\appdata\\local\\pip\\cache\\wheels\\4b\\b9\\b0\\83d6e258e8f963f5ff111a2cd8c483ca59372a86e6a2535212\n",
      "Successfully built peewee\n",
      "Installing collected packages: webencodings, peewee, multitasking, urllib3, soupsieve, lxml, idna, html5lib, frozendict, charset-normalizer, certifi, requests, beautifulsoup4, yfinance\n",
      "Successfully installed beautifulsoup4-4.12.3 certifi-2024.8.30 charset-normalizer-3.3.2 frozendict-2.4.4 html5lib-1.1 idna-3.10 lxml-5.3.0 multitasking-0.0.11 peewee-3.17.6 requests-2.32.3 soupsieve-2.6 urllib3-2.2.3 webencodings-0.5.1 yfinance-0.2.43\n",
      "Note: you may need to restart the kernel to use updated packages.\n"
     ]
    },
    {
     "name": "stderr",
     "output_type": "stream",
     "text": [
      "\n",
      "[notice] A new release of pip available: 22.2.2 -> 24.2\n",
      "[notice] To update, run: python.exe -m pip install --upgrade pip\n"
     ]
    }
   ],
   "source": [
    "%pip install yfinance"
   ]
  },
  {
   "cell_type": "code",
   "execution_count": 3,
   "metadata": {},
   "outputs": [
    {
     "name": "stdout",
     "output_type": "stream",
     "text": [
      "Fetching data for Meta (META)...\n"
     ]
    },
    {
     "name": "stderr",
     "output_type": "stream",
     "text": [
      "[*********************100%***********************]  1 of 1 completed\n"
     ]
    },
    {
     "name": "stdout",
     "output_type": "stream",
     "text": [
      "Data for Meta (META) saved as META_last_year.csv\n",
      "Fetching data for Apple (AAPL)...\n"
     ]
    },
    {
     "name": "stderr",
     "output_type": "stream",
     "text": [
      "[*********************100%***********************]  1 of 1 completed\n"
     ]
    },
    {
     "name": "stdout",
     "output_type": "stream",
     "text": [
      "Data for Apple (AAPL) saved as AAPL_last_year.csv\n",
      "Fetching data for Microsoft (MSFT)...\n"
     ]
    },
    {
     "name": "stderr",
     "output_type": "stream",
     "text": [
      "[*********************100%***********************]  1 of 1 completed\n"
     ]
    },
    {
     "name": "stdout",
     "output_type": "stream",
     "text": [
      "Data for Microsoft (MSFT) saved as MSFT_last_year.csv\n",
      "Fetching data for Amazon (AMZN)...\n"
     ]
    },
    {
     "name": "stderr",
     "output_type": "stream",
     "text": [
      "[*********************100%***********************]  1 of 1 completed\n"
     ]
    },
    {
     "name": "stdout",
     "output_type": "stream",
     "text": [
      "Data for Amazon (AMZN) saved as AMZN_last_year.csv\n"
     ]
    },
    {
     "name": "stderr",
     "output_type": "stream",
     "text": [
      "[*********************100%***********************]  1 of 1 completed"
     ]
    },
    {
     "name": "stdout",
     "output_type": "stream",
     "text": [
      "Fetching data for Alphabet (GOOGL)...\n",
      "Data for Alphabet (GOOGL) saved as GOOGL_last_year.csv\n"
     ]
    },
    {
     "name": "stderr",
     "output_type": "stream",
     "text": [
      "\n"
     ]
    },
    {
     "name": "stdout",
     "output_type": "stream",
     "text": [
      "Done fetching MAMAA stock data!\n"
     ]
    }
   ],
   "source": [
    "import yfinance as yf\n",
    "import time\n",
    "from datetime import datetime, timedelta\n",
    "\n",
    "# Define the list of MAMAA stock tickers\n",
    "mamaa_stocks = {\n",
    "    'Meta': 'META',\n",
    "    'Apple': 'AAPL',\n",
    "    'Microsoft': 'MSFT',\n",
    "    'Amazon': 'AMZN',\n",
    "    'Alphabet': 'GOOGL'\n",
    "}\n",
    "\n",
    "# Get today's date and the date from 1 year ago\n",
    "end_date = datetime.now()\n",
    "start_date = end_date - timedelta(days=365)\n",
    "\n",
    "# Loop through each stock ticker and download historical data\n",
    "for company, ticker in mamaa_stocks.items():\n",
    "    try:\n",
    "        print(f\"Fetching data for {company} ({ticker})...\")\n",
    "        \n",
    "        # Download stock data for the last year\n",
    "        stock_data = yf.download(ticker, start=start_date.strftime('%Y-%m-%d'), end=end_date.strftime('%Y-%m-%d'))\n",
    "        \n",
    "        # Save data to CSV file\n",
    "        csv_filename = f\"{ticker}_last_year.csv\"\n",
    "        stock_data.to_csv(csv_filename)\n",
    "        \n",
    "        print(f\"Data for {company} ({ticker}) saved as {csv_filename}\")\n",
    "        \n",
    "        # Add a short delay to avoid overwhelming the server\n",
    "        time.sleep(2)  # 2-second pause between requests\n",
    "        \n",
    "    except Exception as e:\n",
    "        print(f\"Error fetching data for {company} ({ticker}): {e}\")\n",
    "\n",
    "print(\"Done fetching MAMAA stock data!\")\n"
   ]
  },
  {
   "cell_type": "code",
   "execution_count": 4,
   "metadata": {},
   "outputs": [
    {
     "name": "stderr",
     "output_type": "stream",
     "text": [
      "[*********************100%***********************]  1 of 1 completed"
     ]
    },
    {
     "name": "stdout",
     "output_type": "stream",
     "text": [
      "Fetching data for S&P 500 Index (^GSPC)...\n",
      "S&P 500 Index data saved as SP500_last_year.csv\n"
     ]
    },
    {
     "name": "stderr",
     "output_type": "stream",
     "text": [
      "\n"
     ]
    }
   ],
   "source": [
    "import yfinance as yf\n",
    "from datetime import datetime, timedelta\n",
    "\n",
    "# Define the ticker for S&P 500 index\n",
    "sp500_ticker = '^GSPC'\n",
    "\n",
    "# Get today's date and the date from 1 year ago\n",
    "end_date = datetime.now()\n",
    "start_date = end_date - timedelta(days=365)\n",
    "\n",
    "# Fetch the stock data for the S&P 500 index\n",
    "print(f\"Fetching data for S&P 500 Index ({sp500_ticker})...\")\n",
    "\n",
    "# Download the stock data\n",
    "sp500_data = yf.download(sp500_ticker, start=start_date.strftime('%Y-%m-%d'), end=end_date.strftime('%Y-%m-%d'))\n",
    "\n",
    "# Save data to a CSV file\n",
    "csv_filename = 'SP500_last_year.csv'\n",
    "sp500_data.to_csv(csv_filename)\n",
    "\n",
    "print(f\"S&P 500 Index data saved as {csv_filename}\")\n"
   ]
  }
 ],
 "metadata": {
  "kernelspec": {
   "display_name": "venv",
   "language": "python",
   "name": "python3"
  },
  "language_info": {
   "codemirror_mode": {
    "name": "ipython",
    "version": 3
   },
   "file_extension": ".py",
   "mimetype": "text/x-python",
   "name": "python",
   "nbconvert_exporter": "python",
   "pygments_lexer": "ipython3",
   "version": "3.10.7"
  }
 },
 "nbformat": 4,
 "nbformat_minor": 2
}
