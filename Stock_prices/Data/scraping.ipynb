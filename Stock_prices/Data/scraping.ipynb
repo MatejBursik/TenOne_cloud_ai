{
 "cells": [
  {
   "cell_type": "markdown",
   "metadata": {},
   "source": [
    "Made by Rob Verbeek\n",
    "# Scraping stock data\n",
    "\n",
    "### Dependencies\n",
    "\n",
    "In order to scrape the data I'm using the yahoo finance. In order to use this we have to install the yfinance library.\n",
    "\n",
    "### Defining the time period\n",
    "\n",
    "To define the time period of which we want to scrape data, we get the current time as the endpoint. For the start-date we use a timedelta to substract the amount of days we want to go in the past from the current time period.\n",
    "Since I'm looking at data of the last 10 years I used a timedelta of 3652 days.\n",
    "\n",
    "### Downloading and saving the data\n",
    "\n",
    "To find the the correct stocks to download we have to use the ticker that they go by, the stocks and their tickers that we want to scrape are stored in a dictionary.\n",
    "\n",
    "This dictionary is then used in a loop to download all the stocks, rename the column names to be all lowercase, and remove spaces with underscore and finally then saved in a csv file.\n",
    "\n"
   ]
  },
  {
   "cell_type": "code",
   "execution_count": null,
   "metadata": {},
   "outputs": [],
   "source": [
    "#%pip install yfinance"
   ]
  },
  {
   "cell_type": "code",
   "execution_count": null,
   "metadata": {},
   "outputs": [],
   "source": [
    "import yfinance as yf\n",
    "import time\n",
    "from datetime import datetime, timedelta\n",
    "\n",
    "# Define the list of MAMAA stock tickers\n",
    "mamaa_stocks = {\n",
    "    'Meta': 'META',\n",
    "    'Apple': 'AAPL',\n",
    "    'Microsoft': 'MSFT',\n",
    "    'Amazon': 'AMZN',\n",
    "    'Alphabet': 'GOOGL',\n",
    "    'SP500' : '^GSPC'\n",
    "}\n",
    "\n",
    "# Get today's date and the date from 10 year ago\n",
    "end_date = datetime.now()\n",
    "start_date = end_date - timedelta(days=3652)\n",
    "\n",
    "# Loop through each stock ticker and download historical data\n",
    "for company, ticker in mamaa_stocks.items():\n",
    "    try:\n",
    "        print(f\"Fetching data for {company} ({ticker})...\")\n",
    "        \n",
    "        # Download stock data for the last year\n",
    "        stock_data = yf.download(ticker, start=start_date.strftime('%Y-%m-%d'), end=end_date.strftime('%Y-%m-%d'))\n",
    "        # lower all column names\n",
    "        stock_data.columns = map(str.lower, stock_data.columns)\n",
    "        stock_data.columns = stock_data.columns.str.replace(\" \", \"_\")\n",
    "        print(stock_data.columns)\n",
    "        \n",
    "        # Save data to CSV file\n",
    "        csv_filename = f\"{ticker}_last_decade.csv\"\n",
    "        stock_data.to_csv(csv_filename)\n",
    "        \n",
    "        print(f\"Data for {company} ({ticker}) saved as {csv_filename}\")\n",
    "        \n",
    "        # Add a short delay to avoid overwhelming the server\n",
    "        time.sleep(2)  # 2-second pause between requests\n",
    "        \n",
    "    except Exception as e:\n",
    "        print(f\"Error fetching data for {company} ({ticker}): {e}\")\n",
    "\n",
    "print(\"Done fetching MAMAA stock data!\")\n"
   ]
  }
 ],
 "metadata": {
  "kernelspec": {
   "display_name": "venv",
   "language": "python",
   "name": "python3"
  },
  "language_info": {
   "codemirror_mode": {
    "name": "ipython",
    "version": 3
   },
   "file_extension": ".py",
   "mimetype": "text/x-python",
   "name": "python",
   "nbconvert_exporter": "python",
   "pygments_lexer": "ipython3",
   "version": "3.10.7"
  }
 },
 "nbformat": 4,
 "nbformat_minor": 2
}
