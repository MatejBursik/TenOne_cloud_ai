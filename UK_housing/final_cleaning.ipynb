{
 "cells": [
  {
   "cell_type": "markdown",
   "metadata": {},
   "source": [
    "Matej Buršík"
   ]
  },
  {
   "cell_type": "code",
   "execution_count": 1,
   "metadata": {},
   "outputs": [],
   "source": [
    "# Import\n",
    "import pyarrow\n",
    "import pandas as pd"
   ]
  },
  {
   "cell_type": "code",
   "execution_count": null,
   "metadata": {},
   "outputs": [],
   "source": [
    "# Load and short information about the columns\n",
    "df = pd.read_parquet('data/price_paid_records.parquet', engine='pyarrow')\n",
    "df.info()"
   ]
  },
  {
   "cell_type": "markdown",
   "metadata": {},
   "source": [
    "# Cleaning\n",
    "Contains all the data cleaning performed in the individual EDA notebook"
   ]
  },
  {
   "cell_type": "markdown",
   "metadata": {},
   "source": [
    "### initial_cleaning.ipynb"
   ]
  },
  {
   "cell_type": "code",
   "execution_count": null,
   "metadata": {},
   "outputs": [],
   "source": [
    "# Creating new column names based on the old ones\n",
    "new_columns = [col.lower().replace(' ', '_').replace('/', '_') for col in df.columns]\n",
    "new_columns = ['city' if col=='town_city' else col for col in new_columns]\n",
    "new_columns = ['is_new' if col=='old_new' else col for col in new_columns]\n",
    "df.columns = new_columns"
   ]
  },
  {
   "cell_type": "code",
   "execution_count": null,
   "metadata": {},
   "outputs": [],
   "source": [
    "# Dropping unnecessery columns\n",
    "df.drop('transaction_unique_identifier', axis=1, inplace=True)\n",
    "df.drop('record_status_-_monthly_file_only', axis=1, inplace=True)"
   ]
  },
  {
   "cell_type": "code",
   "execution_count": null,
   "metadata": {},
   "outputs": [],
   "source": [
    "# Changing the data types of columns\n",
    "df['date_of_transfer'] = pd.to_datetime(df['date_of_transfer'])\n",
    "df['is_new'] = df['is_new'].map({'Y': True, 'N': False})"
   ]
  },
  {
   "cell_type": "markdown",
   "metadata": {},
   "source": [
    "### outliers.ipynb"
   ]
  },
  {
   "cell_type": "code",
   "execution_count": null,
   "metadata": {},
   "outputs": [],
   "source": [
    "# Removing the 'Unknown' duration type\n",
    "df = df[~(df['duration'] == 'U')]"
   ]
  },
  {
   "cell_type": "markdown",
   "metadata": {},
   "source": [
    "### price.ipynb"
   ]
  },
  {
   "cell_type": "code",
   "execution_count": null,
   "metadata": {},
   "outputs": [],
   "source": [
    "# Remove unrealistically low prices\n",
    "df = df[df['price'] >= 85]"
   ]
  },
  {
   "cell_type": "code",
   "execution_count": null,
   "metadata": {},
   "outputs": [],
   "source": [
    "# Removing outliears based on correlation to Property types\n",
    "df = df[\n",
    "    ((df['price'] <= 350000) & (df['property_type'] == 'T')) | \n",
    "    ((df['price'] <= 375000) & (df['property_type'] == 'S')) |\n",
    "    ((df['price'] <= 550000) & (df['property_type'] == 'D')) |\n",
    "    ((df['price'] <= 400000) & (df['property_type'] == 'F')) |\n",
    "    ((df['price'] <= 800000) & (df['property_type'] == 'O'))\n",
    "]"
   ]
  },
  {
   "cell_type": "code",
   "execution_count": null,
   "metadata": {},
   "outputs": [],
   "source": [
    "# Removing outliears based on correlation to New/Old property\n",
    "df = df[\n",
    "    ((df['price'] <= 500000) & (df['is_new'] == True)) | \n",
    "    (df['is_new'] == False)\n",
    "]"
   ]
  },
  {
   "cell_type": "markdown",
   "metadata": {},
   "source": [
    "# Saving data into files\n",
    "Creating dataset for specialized use cases or experimentation\n",
    "- final_all_data - contains all the cleaned data no-matter the date\n",
    "- after_2008_crisis - contains all the cleaned data after 1st of January 2009\n",
    "- after_2016_policy - contains all the cleaned data after 1st of April 2016\n",
    "- london_terraced_forcasting - contains cleaned data about a specific location and property type, no-matter the date, for price forcasting"
   ]
  },
  {
   "cell_type": "code",
   "execution_count": null,
   "metadata": {},
   "outputs": [],
   "source": [
    "# Save the final data file\n",
    "df = df.reset_index(drop=True)\n",
    "df.to_parquet('data/final_all_data.parquet', engine='pyarrow')"
   ]
  },
  {
   "cell_type": "markdown",
   "metadata": {},
   "source": [
    "### date_of_transfer.ipynb"
   ]
  },
  {
   "cell_type": "code",
   "execution_count": null,
   "metadata": {},
   "outputs": [],
   "source": [
    "# Dataset after 2008 DFC\n",
    "cutoff_date = pd.to_datetime('2009-01-01')\n",
    "df_2008 = df[df['date_of_transfer'] >= cutoff_date]\n",
    "df_2008 = df_2008.reset_index(drop=True)\n",
    "\n",
    "# Save data in parquet format\n",
    "print(df_2008.info())\n",
    "df_2008.to_parquet('data/after_2008_crisis.parquet', engine='pyarrow')"
   ]
  },
  {
   "cell_type": "code",
   "execution_count": null,
   "metadata": {},
   "outputs": [],
   "source": [
    "# Dataset after April 2016 policy\n",
    "cutoff_date = pd.to_datetime('2016-04-01')\n",
    "df_2016 = df[df['date_of_transfer'] >= cutoff_date]\n",
    "df_2016 = df_2016.reset_index(drop=True)\n",
    "\n",
    "# Save data in parquet format\n",
    "print(df_2016.info())\n",
    "df_2016.to_parquet('data/after_2016_policy.parquet', engine='pyarrow')"
   ]
  },
  {
   "cell_type": "markdown",
   "metadata": {},
   "source": [
    "### forecasting_data.ipynb"
   ]
  },
  {
   "cell_type": "code",
   "execution_count": null,
   "metadata": {},
   "outputs": [],
   "source": [
    "# Get only data for city London and property type Terraced (T)\n",
    "london_terraced_df = df[\n",
    "    ((df['city'] == 'LONDON') & (df['property_type'] == 'T'))\n",
    "]"
   ]
  },
  {
   "cell_type": "code",
   "execution_count": null,
   "metadata": {},
   "outputs": [],
   "source": [
    "# Getting only necessery columns\n",
    "london_terraced_df = london_terraced_df[['date_of_transfer', 'price']]"
   ]
  },
  {
   "cell_type": "code",
   "execution_count": null,
   "metadata": {},
   "outputs": [],
   "source": [
    "london_terraced_df = london_terraced_df.reset_index(drop=True)\n",
    "london_terraced_df.info()\n",
    "london_terraced_df.to_parquet('data/london_terraced_forecasting.parquet', engine='pyarrow')"
   ]
  }
 ],
 "metadata": {
  "kernelspec": {
   "display_name": "venv",
   "language": "python",
   "name": "python3"
  },
  "language_info": {
   "codemirror_mode": {
    "name": "ipython",
    "version": 3
   },
   "file_extension": ".py",
   "mimetype": "text/x-python",
   "name": "python",
   "nbconvert_exporter": "python",
   "pygments_lexer": "ipython3",
   "version": "3.11.5"
  }
 },
 "nbformat": 4,
 "nbformat_minor": 2
}
