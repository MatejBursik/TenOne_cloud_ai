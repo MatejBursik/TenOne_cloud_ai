{
 "cells": [
  {
   "cell_type": "markdown",
   "metadata": {},
   "source": [
    "# Initial cleaning\n",
    "- Rename columns to remove spaces from the name and make them all lowercase.\n",
    "- Look for the Na-values. Fix them if possible, using a couple of techniques before deciding which is best.\n",
    "- Look for (ordered) categoricals and label them as such."
   ]
  },
  {
   "cell_type": "code",
   "execution_count": 1,
   "metadata": {},
   "outputs": [],
   "source": [
    "# Import\n",
    "import pyarrow\n",
    "import pandas as pd\n",
    "import matplotlib.pyplot as plt\n",
    "import matplotlib.ticker as mticker\n",
    "from matplotlib import dates\n",
    "import seaborn as sns"
   ]
  },
  {
   "cell_type": "code",
   "execution_count": null,
   "metadata": {},
   "outputs": [],
   "source": [
    "# Change the file type to .parquet because aws had issues loading the original .csv file\n",
    "temp = pd.read_csv('data/price_paid_records.csv')\n",
    "temp.to_parquet('data/price_paid_records.parquet', engine='pyarrow')"
   ]
  },
  {
   "cell_type": "code",
   "execution_count": null,
   "metadata": {},
   "outputs": [
    {
     "name": "stdout",
     "output_type": "stream",
     "text": [
      "<class 'pandas.core.frame.DataFrame'>\n",
      "RangeIndex: 22489348 entries, 0 to 22489347\n",
      "Data columns (total 11 columns):\n",
      " #   Column                             Dtype \n",
      "---  ------                             ----- \n",
      " 0   Transaction unique identifier      object\n",
      " 1   Price                              int64 \n",
      " 2   Date of Transfer                   object\n",
      " 3   Property Type                      object\n",
      " 4   Old/New                            object\n",
      " 5   Duration                           object\n",
      " 6   Town/City                          object\n",
      " 7   District                           object\n",
      " 8   County                             object\n",
      " 9   PPDCategory Type                   object\n",
      " 10  Record Status - monthly file only  object\n",
      "dtypes: int64(1), object(10)\n",
      "memory usage: 1.8+ GB\n"
     ]
    }
   ],
   "source": [
    "# Load and short information about the columns\n",
    "df = pd.read_parquet('data/price_paid_records.parquet', engine='pyarrow')\n",
    "df.info()"
   ]
  },
  {
   "cell_type": "markdown",
   "metadata": {},
   "source": [
    "# Renaming columns\n",
    "Making all column names lowercase\n",
    "Replacing unwanted characters and names:\n",
    "- ' ' -> '_'\n",
    "- '/' -> '_'\n",
    "- 'town_or_city' -> 'city'\n",
    "- 'old_new' -> 'is_new'"
   ]
  },
  {
   "cell_type": "code",
   "execution_count": 6,
   "metadata": {},
   "outputs": [
    {
     "name": "stdout",
     "output_type": "stream",
     "text": [
      "<class 'pandas.core.frame.DataFrame'>\n",
      "RangeIndex: 22489348 entries, 0 to 22489347\n",
      "Data columns (total 11 columns):\n",
      " #   Column                             Dtype \n",
      "---  ------                             ----- \n",
      " 0   transaction_unique_identifier      object\n",
      " 1   price                              int64 \n",
      " 2   date_of_transfer                   object\n",
      " 3   property_type                      object\n",
      " 4   is_new                             object\n",
      " 5   duration                           object\n",
      " 6   city                               object\n",
      " 7   district                           object\n",
      " 8   county                             object\n",
      " 9   ppdcategory_type                   object\n",
      " 10  record_status_-_monthly_file_only  object\n",
      "dtypes: int64(1), object(10)\n",
      "memory usage: 1.8+ GB\n"
     ]
    }
   ],
   "source": [
    "# Creating new column names based on the old ones\n",
    "new_columns = [col.lower().replace(' ', '_').replace('/', '_') for col in df.columns]\n",
    "new_columns = ['city' if col=='town_city' else col for col in new_columns]\n",
    "new_columns = ['is_new' if col=='old_new' else col for col in new_columns]\n",
    "df.columns = new_columns\n",
    "\n",
    "df.info()"
   ]
  },
  {
   "cell_type": "markdown",
   "metadata": {},
   "source": [
    "How many null values are in each column"
   ]
  },
  {
   "cell_type": "code",
   "execution_count": null,
   "metadata": {},
   "outputs": [
    {
     "name": "stdout",
     "output_type": "stream",
     "text": [
      "transaction_unique_identifier        0\n",
      "price                                0\n",
      "date_of_transfer                     0\n",
      "property_type                        0\n",
      "is_new                               0\n",
      "duration                             0\n",
      "city                                 0\n",
      "district                             0\n",
      "county                               0\n",
      "ppdcategory_type                     0\n",
      "record_status_-_monthly_file_only    0\n",
      "dtype: int64\n"
     ]
    }
   ],
   "source": [
    "print(df.isnull().sum())"
   ]
  },
  {
   "cell_type": "markdown",
   "metadata": {},
   "source": [
    "# Dealing with Categorical data\n",
    "- Removing 'transaction_unique_identifier'\n",
    "- Converting 'date_of_transfer' from object dtype to datetime\n",
    "- Changing 'is_new' from object dtype to bool\n",
    "- Removing 'record_status_-_monthly_file_only'"
   ]
  },
  {
   "cell_type": "code",
   "execution_count": 8,
   "metadata": {},
   "outputs": [
    {
     "data": {
      "text/html": [
       "<div>\n",
       "<style scoped>\n",
       "    .dataframe tbody tr th:only-of-type {\n",
       "        vertical-align: middle;\n",
       "    }\n",
       "\n",
       "    .dataframe tbody tr th {\n",
       "        vertical-align: top;\n",
       "    }\n",
       "\n",
       "    .dataframe thead th {\n",
       "        text-align: right;\n",
       "    }\n",
       "</style>\n",
       "<table border=\"1\" class=\"dataframe\">\n",
       "  <thead>\n",
       "    <tr style=\"text-align: right;\">\n",
       "      <th></th>\n",
       "      <th>transaction_unique_identifier</th>\n",
       "      <th>price</th>\n",
       "      <th>date_of_transfer</th>\n",
       "      <th>property_type</th>\n",
       "      <th>is_new</th>\n",
       "      <th>duration</th>\n",
       "      <th>city</th>\n",
       "      <th>district</th>\n",
       "      <th>county</th>\n",
       "      <th>ppdcategory_type</th>\n",
       "      <th>record_status_-_monthly_file_only</th>\n",
       "    </tr>\n",
       "  </thead>\n",
       "  <tbody>\n",
       "    <tr>\n",
       "      <th>0</th>\n",
       "      <td>{81B82214-7FBC-4129-9F6B-4956B4A663AD}</td>\n",
       "      <td>25000</td>\n",
       "      <td>1995-08-18 00:00</td>\n",
       "      <td>T</td>\n",
       "      <td>N</td>\n",
       "      <td>F</td>\n",
       "      <td>OLDHAM</td>\n",
       "      <td>OLDHAM</td>\n",
       "      <td>GREATER MANCHESTER</td>\n",
       "      <td>A</td>\n",
       "      <td>A</td>\n",
       "    </tr>\n",
       "    <tr>\n",
       "      <th>1</th>\n",
       "      <td>{8046EC72-1466-42D6-A753-4956BF7CD8A2}</td>\n",
       "      <td>42500</td>\n",
       "      <td>1995-08-09 00:00</td>\n",
       "      <td>S</td>\n",
       "      <td>N</td>\n",
       "      <td>F</td>\n",
       "      <td>GRAYS</td>\n",
       "      <td>THURROCK</td>\n",
       "      <td>THURROCK</td>\n",
       "      <td>A</td>\n",
       "      <td>A</td>\n",
       "    </tr>\n",
       "    <tr>\n",
       "      <th>2</th>\n",
       "      <td>{278D581A-5BF3-4FCE-AF62-4956D87691E6}</td>\n",
       "      <td>45000</td>\n",
       "      <td>1995-06-30 00:00</td>\n",
       "      <td>T</td>\n",
       "      <td>N</td>\n",
       "      <td>F</td>\n",
       "      <td>HIGHBRIDGE</td>\n",
       "      <td>SEDGEMOOR</td>\n",
       "      <td>SOMERSET</td>\n",
       "      <td>A</td>\n",
       "      <td>A</td>\n",
       "    </tr>\n",
       "    <tr>\n",
       "      <th>3</th>\n",
       "      <td>{1D861C06-A416-4865-973C-4956DB12CD12}</td>\n",
       "      <td>43150</td>\n",
       "      <td>1995-11-24 00:00</td>\n",
       "      <td>T</td>\n",
       "      <td>N</td>\n",
       "      <td>F</td>\n",
       "      <td>BEDFORD</td>\n",
       "      <td>NORTH BEDFORDSHIRE</td>\n",
       "      <td>BEDFORDSHIRE</td>\n",
       "      <td>A</td>\n",
       "      <td>A</td>\n",
       "    </tr>\n",
       "    <tr>\n",
       "      <th>4</th>\n",
       "      <td>{DD8645FD-A815-43A6-A7BA-4956E58F1874}</td>\n",
       "      <td>18899</td>\n",
       "      <td>1995-06-23 00:00</td>\n",
       "      <td>S</td>\n",
       "      <td>N</td>\n",
       "      <td>F</td>\n",
       "      <td>WAKEFIELD</td>\n",
       "      <td>LEEDS</td>\n",
       "      <td>WEST YORKSHIRE</td>\n",
       "      <td>A</td>\n",
       "      <td>A</td>\n",
       "    </tr>\n",
       "  </tbody>\n",
       "</table>\n",
       "</div>"
      ],
      "text/plain": [
       "            transaction_unique_identifier  price  date_of_transfer  \\\n",
       "0  {81B82214-7FBC-4129-9F6B-4956B4A663AD}  25000  1995-08-18 00:00   \n",
       "1  {8046EC72-1466-42D6-A753-4956BF7CD8A2}  42500  1995-08-09 00:00   \n",
       "2  {278D581A-5BF3-4FCE-AF62-4956D87691E6}  45000  1995-06-30 00:00   \n",
       "3  {1D861C06-A416-4865-973C-4956DB12CD12}  43150  1995-11-24 00:00   \n",
       "4  {DD8645FD-A815-43A6-A7BA-4956E58F1874}  18899  1995-06-23 00:00   \n",
       "\n",
       "  property_type is_new duration        city            district  \\\n",
       "0             T      N        F      OLDHAM              OLDHAM   \n",
       "1             S      N        F       GRAYS            THURROCK   \n",
       "2             T      N        F  HIGHBRIDGE           SEDGEMOOR   \n",
       "3             T      N        F     BEDFORD  NORTH BEDFORDSHIRE   \n",
       "4             S      N        F   WAKEFIELD               LEEDS   \n",
       "\n",
       "               county ppdcategory_type record_status_-_monthly_file_only  \n",
       "0  GREATER MANCHESTER                A                                 A  \n",
       "1            THURROCK                A                                 A  \n",
       "2            SOMERSET                A                                 A  \n",
       "3        BEDFORDSHIRE                A                                 A  \n",
       "4      WEST YORKSHIRE                A                                 A  "
      ]
     },
     "execution_count": 8,
     "metadata": {},
     "output_type": "execute_result"
    }
   ],
   "source": [
    "# Inspect first 5 entries\n",
    "df.head()"
   ]
  },
  {
   "cell_type": "markdown",
   "metadata": {},
   "source": [
    "Since 'transaction_unique_identifier' is a reference number which is generated automatically when recording each published sale.\n",
    "\n",
    "This column is useless to since there is no meaning full data stored in the identifier."
   ]
  },
  {
   "cell_type": "code",
   "execution_count": null,
   "metadata": {},
   "outputs": [],
   "source": [
    "df.drop('transaction_unique_identifier', axis=1, inplace=True)"
   ]
  },
  {
   "cell_type": "markdown",
   "metadata": {},
   "source": [
    "Converting 'date_of_transfer' from object dtype to datetime"
   ]
  },
  {
   "cell_type": "code",
   "execution_count": null,
   "metadata": {},
   "outputs": [],
   "source": [
    "df['date_of_transfer'] = pd.to_datetime(df['date_of_transfer'])"
   ]
  },
  {
   "cell_type": "markdown",
   "metadata": {},
   "source": [
    "Changing 'is_new' from object dtype to bool\n",
    "\n",
    "'is_new' has 2 possible values:\n",
    "- Y = a newly built property\n",
    "- N = an established residential building\n",
    "\n",
    "Mapping 'Y' to 'True' and 'N' to 'False'"
   ]
  },
  {
   "cell_type": "code",
   "execution_count": null,
   "metadata": {},
   "outputs": [],
   "source": [
    "df['is_new'] = df['is_new'].map({'Y': True, 'N': False})"
   ]
  },
  {
   "cell_type": "markdown",
   "metadata": {},
   "source": [
    "We can see that 'city', 'district', and 'county' detailed information about the location.\n",
    "\n",
    "Which makes a lot of categories.\n",
    "\n",
    "But the remaining object columns are truely categorical."
   ]
  },
  {
   "cell_type": "code",
   "execution_count": null,
   "metadata": {},
   "outputs": [
    {
     "name": "stdout",
     "output_type": "stream",
     "text": [
      "Column name 'property_type':\n",
      "['T' 'S' 'D' 'F' 'O'] \n",
      "\n",
      "Column name 'duration':\n",
      "['F' 'L' 'U'] \n",
      "\n",
      "Column name 'ppdcategory_type':\n",
      "['A' 'B'] \n",
      "\n",
      "Column name 'record_status_-_monthly_file_only':\n",
      "['A'] \n",
      "\n"
     ]
    }
   ],
   "source": [
    "object_columns = df.select_dtypes(include=['object']).drop(columns=['city', 'district', 'county'])\n",
    "\n",
    "for col in object_columns.columns:\n",
    "    unique_values = object_columns[col].unique()\n",
    "    print(f\"Column name '{col}':\")\n",
    "    print(unique_values,\"\\n\")"
   ]
  },
  {
   "cell_type": "markdown",
   "metadata": {},
   "source": [
    "From this, we see that column 'record_status_-_monthly_file_only' is useless since all columns have the same value.\n",
    "Indicates additions, changes and deletions to the records.\n",
    "This is represented by 3 possible values (A, C, D).\n",
    "But the provided dataset contains only 'A'."
   ]
  },
  {
   "cell_type": "code",
   "execution_count": null,
   "metadata": {},
   "outputs": [],
   "source": [
    "df.drop('record_status_-_monthly_file_only', axis=1, inplace=True)"
   ]
  },
  {
   "cell_type": "code",
   "execution_count": 14,
   "metadata": {},
   "outputs": [
    {
     "name": "stdout",
     "output_type": "stream",
     "text": [
      "<class 'pandas.core.frame.DataFrame'>\n",
      "RangeIndex: 22489348 entries, 0 to 22489347\n",
      "Data columns (total 9 columns):\n",
      " #   Column            Dtype         \n",
      "---  ------            -----         \n",
      " 0   price             int64         \n",
      " 1   date_of_transfer  datetime64[ns]\n",
      " 2   property_type     object        \n",
      " 3   is_new            bool          \n",
      " 4   duration          object        \n",
      " 5   city              object        \n",
      " 6   district          object        \n",
      " 7   county            object        \n",
      " 8   ppdcategory_type  object        \n",
      "dtypes: bool(1), datetime64[ns](1), int64(1), object(6)\n",
      "memory usage: 1.4+ GB\n"
     ]
    }
   ],
   "source": [
    "# Short information about the columns\n",
    "df.info()"
   ]
  },
  {
   "cell_type": "code",
   "execution_count": 15,
   "metadata": {},
   "outputs": [
    {
     "data": {
      "text/html": [
       "<div>\n",
       "<style scoped>\n",
       "    .dataframe tbody tr th:only-of-type {\n",
       "        vertical-align: middle;\n",
       "    }\n",
       "\n",
       "    .dataframe tbody tr th {\n",
       "        vertical-align: top;\n",
       "    }\n",
       "\n",
       "    .dataframe thead th {\n",
       "        text-align: right;\n",
       "    }\n",
       "</style>\n",
       "<table border=\"1\" class=\"dataframe\">\n",
       "  <thead>\n",
       "    <tr style=\"text-align: right;\">\n",
       "      <th></th>\n",
       "      <th>price</th>\n",
       "      <th>date_of_transfer</th>\n",
       "      <th>property_type</th>\n",
       "      <th>is_new</th>\n",
       "      <th>duration</th>\n",
       "      <th>city</th>\n",
       "      <th>district</th>\n",
       "      <th>county</th>\n",
       "      <th>ppdcategory_type</th>\n",
       "    </tr>\n",
       "  </thead>\n",
       "  <tbody>\n",
       "    <tr>\n",
       "      <th>0</th>\n",
       "      <td>25000</td>\n",
       "      <td>1995-08-18</td>\n",
       "      <td>T</td>\n",
       "      <td>False</td>\n",
       "      <td>F</td>\n",
       "      <td>OLDHAM</td>\n",
       "      <td>OLDHAM</td>\n",
       "      <td>GREATER MANCHESTER</td>\n",
       "      <td>A</td>\n",
       "    </tr>\n",
       "    <tr>\n",
       "      <th>1</th>\n",
       "      <td>42500</td>\n",
       "      <td>1995-08-09</td>\n",
       "      <td>S</td>\n",
       "      <td>False</td>\n",
       "      <td>F</td>\n",
       "      <td>GRAYS</td>\n",
       "      <td>THURROCK</td>\n",
       "      <td>THURROCK</td>\n",
       "      <td>A</td>\n",
       "    </tr>\n",
       "    <tr>\n",
       "      <th>2</th>\n",
       "      <td>45000</td>\n",
       "      <td>1995-06-30</td>\n",
       "      <td>T</td>\n",
       "      <td>False</td>\n",
       "      <td>F</td>\n",
       "      <td>HIGHBRIDGE</td>\n",
       "      <td>SEDGEMOOR</td>\n",
       "      <td>SOMERSET</td>\n",
       "      <td>A</td>\n",
       "    </tr>\n",
       "    <tr>\n",
       "      <th>3</th>\n",
       "      <td>43150</td>\n",
       "      <td>1995-11-24</td>\n",
       "      <td>T</td>\n",
       "      <td>False</td>\n",
       "      <td>F</td>\n",
       "      <td>BEDFORD</td>\n",
       "      <td>NORTH BEDFORDSHIRE</td>\n",
       "      <td>BEDFORDSHIRE</td>\n",
       "      <td>A</td>\n",
       "    </tr>\n",
       "    <tr>\n",
       "      <th>4</th>\n",
       "      <td>18899</td>\n",
       "      <td>1995-06-23</td>\n",
       "      <td>S</td>\n",
       "      <td>False</td>\n",
       "      <td>F</td>\n",
       "      <td>WAKEFIELD</td>\n",
       "      <td>LEEDS</td>\n",
       "      <td>WEST YORKSHIRE</td>\n",
       "      <td>A</td>\n",
       "    </tr>\n",
       "  </tbody>\n",
       "</table>\n",
       "</div>"
      ],
      "text/plain": [
       "   price date_of_transfer property_type  is_new duration        city  \\\n",
       "0  25000       1995-08-18             T   False        F      OLDHAM   \n",
       "1  42500       1995-08-09             S   False        F       GRAYS   \n",
       "2  45000       1995-06-30             T   False        F  HIGHBRIDGE   \n",
       "3  43150       1995-11-24             T   False        F     BEDFORD   \n",
       "4  18899       1995-06-23             S   False        F   WAKEFIELD   \n",
       "\n",
       "             district              county ppdcategory_type  \n",
       "0              OLDHAM  GREATER MANCHESTER                A  \n",
       "1            THURROCK            THURROCK                A  \n",
       "2           SEDGEMOOR            SOMERSET                A  \n",
       "3  NORTH BEDFORDSHIRE        BEDFORDSHIRE                A  \n",
       "4               LEEDS      WEST YORKSHIRE                A  "
      ]
     },
     "execution_count": 15,
     "metadata": {},
     "output_type": "execute_result"
    }
   ],
   "source": [
    "# Inspect first 5 entries\n",
    "df.head()"
   ]
  },
  {
   "cell_type": "code",
   "execution_count": 16,
   "metadata": {},
   "outputs": [],
   "source": [
    "# Save data in parquet format\n",
    "df.to_parquet('data/initial_cleaning.parquet', engine='pyarrow')"
   ]
  }
 ],
 "metadata": {
  "kernelspec": {
   "display_name": "venv",
   "language": "python",
   "name": "python3"
  },
  "language_info": {
   "codemirror_mode": {
    "name": "ipython",
    "version": 3
   },
   "file_extension": ".py",
   "mimetype": "text/x-python",
   "name": "python",
   "nbconvert_exporter": "python",
   "pygments_lexer": "ipython3",
   "version": "3.11.5"
  }
 },
 "nbformat": 4,
 "nbformat_minor": 2
}
