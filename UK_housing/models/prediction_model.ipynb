{
 "cells": [
  {
   "cell_type": "markdown",
   "metadata": {},
   "source": [
    "`pip install pycaret mlflow`"
   ]
  },
  {
   "cell_type": "code",
   "execution_count": 16,
   "metadata": {},
   "outputs": [],
   "source": [
    "import pandas as pd\n",
    "import pycaret.classification, pycaret.regression\n",
    "from pycaret.classification import *\n",
    "from pycaret.regression import *"
   ]
  },
  {
   "cell_type": "code",
   "execution_count": null,
   "metadata": {},
   "outputs": [],
   "source": [
    "# Load\n",
    "df = pd.read_parquet('data/initial_cleaning.parquet', engine='pyarrow')\n"
   ]
  },
  {
   "cell_type": "code",
   "execution_count": null,
   "metadata": {},
   "outputs": [],
   "source": [
    "# Initialize setup\n",
    "exp_clf = setup(data=df, target='price', verbose=False, normalize=True)"
   ]
  },
  {
   "cell_type": "code",
   "execution_count": 25,
   "metadata": {},
   "outputs": [
    {
     "data": {
      "text/html": [],
      "text/plain": [
       "<IPython.core.display.HTML object>"
      ]
     },
     "metadata": {},
     "output_type": "display_data"
    },
    {
     "data": {
      "text/html": [
       "<style type=\"text/css\">\n",
       "#T_477c2 th {\n",
       "  text-align: left;\n",
       "}\n",
       "#T_477c2_row0_col0, #T_477c2_row0_col4, #T_477c2_row0_col6, #T_477c2_row1_col0, #T_477c2_row1_col1, #T_477c2_row1_col2, #T_477c2_row1_col3, #T_477c2_row1_col4, #T_477c2_row1_col5, #T_477c2_row1_col6, #T_477c2_row2_col0, #T_477c2_row2_col1, #T_477c2_row2_col2, #T_477c2_row2_col3, #T_477c2_row2_col4, #T_477c2_row2_col5, #T_477c2_row2_col6, #T_477c2_row3_col0, #T_477c2_row3_col1, #T_477c2_row3_col2, #T_477c2_row3_col3, #T_477c2_row3_col4, #T_477c2_row3_col5, #T_477c2_row3_col6, #T_477c2_row4_col0, #T_477c2_row4_col1, #T_477c2_row4_col2, #T_477c2_row4_col3, #T_477c2_row4_col4, #T_477c2_row4_col5, #T_477c2_row4_col6, #T_477c2_row5_col0, #T_477c2_row5_col1, #T_477c2_row5_col2, #T_477c2_row5_col3, #T_477c2_row5_col4, #T_477c2_row5_col5, #T_477c2_row5_col6, #T_477c2_row6_col0, #T_477c2_row6_col1, #T_477c2_row6_col2, #T_477c2_row6_col3, #T_477c2_row6_col4, #T_477c2_row6_col5, #T_477c2_row6_col6, #T_477c2_row7_col0, #T_477c2_row7_col4, #T_477c2_row7_col6, #T_477c2_row8_col0, #T_477c2_row8_col1, #T_477c2_row8_col2, #T_477c2_row8_col3, #T_477c2_row8_col4, #T_477c2_row8_col5, #T_477c2_row8_col6, #T_477c2_row9_col0, #T_477c2_row9_col4, #T_477c2_row9_col6, #T_477c2_row10_col0, #T_477c2_row10_col1, #T_477c2_row10_col2, #T_477c2_row10_col3, #T_477c2_row10_col4, #T_477c2_row10_col5, #T_477c2_row10_col6, #T_477c2_row11_col0, #T_477c2_row11_col4, #T_477c2_row11_col6, #T_477c2_row12_col0, #T_477c2_row12_col1, #T_477c2_row12_col2, #T_477c2_row12_col3, #T_477c2_row12_col4, #T_477c2_row12_col5, #T_477c2_row12_col6, #T_477c2_row13_col0, #T_477c2_row13_col4, #T_477c2_row13_col6, #T_477c2_row14_col0, #T_477c2_row14_col1, #T_477c2_row14_col2, #T_477c2_row14_col3, #T_477c2_row14_col4, #T_477c2_row14_col5, #T_477c2_row14_col6, #T_477c2_row15_col0, #T_477c2_row15_col4, #T_477c2_row15_col6, #T_477c2_row16_col0, #T_477c2_row16_col1, #T_477c2_row16_col2, #T_477c2_row16_col3, #T_477c2_row16_col4, #T_477c2_row16_col5, #T_477c2_row16_col6, #T_477c2_row17_col0, #T_477c2_row17_col1, #T_477c2_row17_col2, #T_477c2_row17_col3, #T_477c2_row17_col4, #T_477c2_row17_col5, #T_477c2_row17_col6 {\n",
       "  text-align: left;\n",
       "}\n",
       "#T_477c2_row0_col1, #T_477c2_row0_col2, #T_477c2_row0_col3, #T_477c2_row0_col5, #T_477c2_row7_col1, #T_477c2_row7_col2, #T_477c2_row7_col3, #T_477c2_row7_col5, #T_477c2_row9_col1, #T_477c2_row9_col2, #T_477c2_row9_col3, #T_477c2_row9_col5, #T_477c2_row11_col1, #T_477c2_row11_col2, #T_477c2_row11_col3, #T_477c2_row11_col5, #T_477c2_row13_col1, #T_477c2_row13_col2, #T_477c2_row13_col3, #T_477c2_row13_col5, #T_477c2_row15_col1, #T_477c2_row15_col2, #T_477c2_row15_col3, #T_477c2_row15_col5 {\n",
       "  text-align: left;\n",
       "  background-color: yellow;\n",
       "}\n",
       "#T_477c2_row0_col7, #T_477c2_row1_col7, #T_477c2_row2_col7, #T_477c2_row3_col7, #T_477c2_row4_col7, #T_477c2_row5_col7, #T_477c2_row6_col7, #T_477c2_row7_col7, #T_477c2_row8_col7, #T_477c2_row9_col7, #T_477c2_row10_col7, #T_477c2_row12_col7, #T_477c2_row13_col7, #T_477c2_row14_col7, #T_477c2_row15_col7, #T_477c2_row16_col7, #T_477c2_row17_col7 {\n",
       "  text-align: left;\n",
       "  background-color: lightgrey;\n",
       "}\n",
       "#T_477c2_row11_col7 {\n",
       "  text-align: left;\n",
       "  background-color: yellow;\n",
       "  background-color: lightgrey;\n",
       "}\n",
       "</style>\n",
       "<table id=\"T_477c2\">\n",
       "  <thead>\n",
       "    <tr>\n",
       "      <th class=\"blank level0\" >&nbsp;</th>\n",
       "      <th id=\"T_477c2_level0_col0\" class=\"col_heading level0 col0\" >Model</th>\n",
       "      <th id=\"T_477c2_level0_col1\" class=\"col_heading level0 col1\" >MAE</th>\n",
       "      <th id=\"T_477c2_level0_col2\" class=\"col_heading level0 col2\" >MSE</th>\n",
       "      <th id=\"T_477c2_level0_col3\" class=\"col_heading level0 col3\" >RMSE</th>\n",
       "      <th id=\"T_477c2_level0_col4\" class=\"col_heading level0 col4\" >R2</th>\n",
       "      <th id=\"T_477c2_level0_col5\" class=\"col_heading level0 col5\" >RMSLE</th>\n",
       "      <th id=\"T_477c2_level0_col6\" class=\"col_heading level0 col6\" >MAPE</th>\n",
       "      <th id=\"T_477c2_level0_col7\" class=\"col_heading level0 col7\" >TT (Sec)</th>\n",
       "    </tr>\n",
       "  </thead>\n",
       "  <tbody>\n",
       "    <tr>\n",
       "      <th id=\"T_477c2_level0_row0\" class=\"row_heading level0 row0\" >lr</th>\n",
       "      <td id=\"T_477c2_row0_col0\" class=\"data row0 col0\" >Linear Regression</td>\n",
       "      <td id=\"T_477c2_row0_col1\" class=\"data row0 col1\" >0.0000</td>\n",
       "      <td id=\"T_477c2_row0_col2\" class=\"data row0 col2\" >0.0000</td>\n",
       "      <td id=\"T_477c2_row0_col3\" class=\"data row0 col3\" >0.0000</td>\n",
       "      <td id=\"T_477c2_row0_col4\" class=\"data row0 col4\" >nan</td>\n",
       "      <td id=\"T_477c2_row0_col5\" class=\"data row0 col5\" >0.0001</td>\n",
       "      <td id=\"T_477c2_row0_col6\" class=\"data row0 col6\" >nan</td>\n",
       "      <td id=\"T_477c2_row0_col7\" class=\"data row0 col7\" >0.0200</td>\n",
       "    </tr>\n",
       "    <tr>\n",
       "      <th id=\"T_477c2_level0_row1\" class=\"row_heading level0 row1\" >lasso</th>\n",
       "      <td id=\"T_477c2_row1_col0\" class=\"data row1 col0\" >Lasso Regression</td>\n",
       "      <td id=\"T_477c2_row1_col1\" class=\"data row1 col1\" >0.5244</td>\n",
       "      <td id=\"T_477c2_row1_col2\" class=\"data row1 col2\" >0.2958</td>\n",
       "      <td id=\"T_477c2_row1_col3\" class=\"data row1 col3\" >0.5244</td>\n",
       "      <td id=\"T_477c2_row1_col4\" class=\"data row1 col4\" >nan</td>\n",
       "      <td id=\"T_477c2_row1_col5\" class=\"data row1 col5\" >0.3491</td>\n",
       "      <td id=\"T_477c2_row1_col6\" class=\"data row1 col6\" >nan</td>\n",
       "      <td id=\"T_477c2_row1_col7\" class=\"data row1 col7\" >0.0160</td>\n",
       "    </tr>\n",
       "    <tr>\n",
       "      <th id=\"T_477c2_level0_row2\" class=\"row_heading level0 row2\" >ridge</th>\n",
       "      <td id=\"T_477c2_row2_col0\" class=\"data row2 col0\" >Ridge Regression</td>\n",
       "      <td id=\"T_477c2_row2_col1\" class=\"data row2 col1\" >0.0376</td>\n",
       "      <td id=\"T_477c2_row2_col2\" class=\"data row2 col2\" >0.0016</td>\n",
       "      <td id=\"T_477c2_row2_col3\" class=\"data row2 col3\" >0.0377</td>\n",
       "      <td id=\"T_477c2_row2_col4\" class=\"data row2 col4\" >nan</td>\n",
       "      <td id=\"T_477c2_row2_col5\" class=\"data row2 col5\" >0.0287</td>\n",
       "      <td id=\"T_477c2_row2_col6\" class=\"data row2 col6\" >nan</td>\n",
       "      <td id=\"T_477c2_row2_col7\" class=\"data row2 col7\" >0.0190</td>\n",
       "    </tr>\n",
       "    <tr>\n",
       "      <th id=\"T_477c2_level0_row3\" class=\"row_heading level0 row3\" >en</th>\n",
       "      <td id=\"T_477c2_row3_col0\" class=\"data row3 col0\" >Elastic Net</td>\n",
       "      <td id=\"T_477c2_row3_col1\" class=\"data row3 col1\" >0.5244</td>\n",
       "      <td id=\"T_477c2_row3_col2\" class=\"data row3 col2\" >0.2958</td>\n",
       "      <td id=\"T_477c2_row3_col3\" class=\"data row3 col3\" >0.5244</td>\n",
       "      <td id=\"T_477c2_row3_col4\" class=\"data row3 col4\" >nan</td>\n",
       "      <td id=\"T_477c2_row3_col5\" class=\"data row3 col5\" >0.3491</td>\n",
       "      <td id=\"T_477c2_row3_col6\" class=\"data row3 col6\" >nan</td>\n",
       "      <td id=\"T_477c2_row3_col7\" class=\"data row3 col7\" >0.0160</td>\n",
       "    </tr>\n",
       "    <tr>\n",
       "      <th id=\"T_477c2_level0_row4\" class=\"row_heading level0 row4\" >lar</th>\n",
       "      <td id=\"T_477c2_row4_col0\" class=\"data row4 col0\" >Least Angle Regression</td>\n",
       "      <td id=\"T_477c2_row4_col1\" class=\"data row4 col1\" >0.0241</td>\n",
       "      <td id=\"T_477c2_row4_col2\" class=\"data row4 col2\" >0.0022</td>\n",
       "      <td id=\"T_477c2_row4_col3\" class=\"data row4 col3\" >0.0254</td>\n",
       "      <td id=\"T_477c2_row4_col4\" class=\"data row4 col4\" >nan</td>\n",
       "      <td id=\"T_477c2_row4_col5\" class=\"data row4 col5\" >0.0130</td>\n",
       "      <td id=\"T_477c2_row4_col6\" class=\"data row4 col6\" >nan</td>\n",
       "      <td id=\"T_477c2_row4_col7\" class=\"data row4 col7\" >0.0150</td>\n",
       "    </tr>\n",
       "    <tr>\n",
       "      <th id=\"T_477c2_level0_row5\" class=\"row_heading level0 row5\" >llar</th>\n",
       "      <td id=\"T_477c2_row5_col0\" class=\"data row5 col0\" >Lasso Least Angle Regression</td>\n",
       "      <td id=\"T_477c2_row5_col1\" class=\"data row5 col1\" >0.5244</td>\n",
       "      <td id=\"T_477c2_row5_col2\" class=\"data row5 col2\" >0.2958</td>\n",
       "      <td id=\"T_477c2_row5_col3\" class=\"data row5 col3\" >0.5244</td>\n",
       "      <td id=\"T_477c2_row5_col4\" class=\"data row5 col4\" >nan</td>\n",
       "      <td id=\"T_477c2_row5_col5\" class=\"data row5 col5\" >0.3491</td>\n",
       "      <td id=\"T_477c2_row5_col6\" class=\"data row5 col6\" >nan</td>\n",
       "      <td id=\"T_477c2_row5_col7\" class=\"data row5 col7\" >0.0150</td>\n",
       "    </tr>\n",
       "    <tr>\n",
       "      <th id=\"T_477c2_level0_row6\" class=\"row_heading level0 row6\" >omp</th>\n",
       "      <td id=\"T_477c2_row6_col0\" class=\"data row6 col0\" >Orthogonal Matching Pursuit</td>\n",
       "      <td id=\"T_477c2_row6_col1\" class=\"data row6 col1\" >0.5917</td>\n",
       "      <td id=\"T_477c2_row6_col2\" class=\"data row6 col2\" >0.4361</td>\n",
       "      <td id=\"T_477c2_row6_col3\" class=\"data row6 col3\" >0.6055</td>\n",
       "      <td id=\"T_477c2_row6_col4\" class=\"data row6 col4\" >nan</td>\n",
       "      <td id=\"T_477c2_row6_col5\" class=\"data row6 col5\" >0.4014</td>\n",
       "      <td id=\"T_477c2_row6_col6\" class=\"data row6 col6\" >nan</td>\n",
       "      <td id=\"T_477c2_row6_col7\" class=\"data row6 col7\" >0.0130</td>\n",
       "    </tr>\n",
       "    <tr>\n",
       "      <th id=\"T_477c2_level0_row7\" class=\"row_heading level0 row7\" >br</th>\n",
       "      <td id=\"T_477c2_row7_col0\" class=\"data row7 col0\" >Bayesian Ridge</td>\n",
       "      <td id=\"T_477c2_row7_col1\" class=\"data row7 col1\" >0.0000</td>\n",
       "      <td id=\"T_477c2_row7_col2\" class=\"data row7 col2\" >0.0000</td>\n",
       "      <td id=\"T_477c2_row7_col3\" class=\"data row7 col3\" >0.0000</td>\n",
       "      <td id=\"T_477c2_row7_col4\" class=\"data row7 col4\" >nan</td>\n",
       "      <td id=\"T_477c2_row7_col5\" class=\"data row7 col5\" >0.0001</td>\n",
       "      <td id=\"T_477c2_row7_col6\" class=\"data row7 col6\" >nan</td>\n",
       "      <td id=\"T_477c2_row7_col7\" class=\"data row7 col7\" >0.0130</td>\n",
       "    </tr>\n",
       "    <tr>\n",
       "      <th id=\"T_477c2_level0_row8\" class=\"row_heading level0 row8\" >par</th>\n",
       "      <td id=\"T_477c2_row8_col0\" class=\"data row8 col0\" >Passive Aggressive Regressor</td>\n",
       "      <td id=\"T_477c2_row8_col1\" class=\"data row8 col1\" >0.0594</td>\n",
       "      <td id=\"T_477c2_row8_col2\" class=\"data row8 col2\" >0.0049</td>\n",
       "      <td id=\"T_477c2_row8_col3\" class=\"data row8 col3\" >0.0594</td>\n",
       "      <td id=\"T_477c2_row8_col4\" class=\"data row8 col4\" >nan</td>\n",
       "      <td id=\"T_477c2_row8_col5\" class=\"data row8 col5\" >0.0469</td>\n",
       "      <td id=\"T_477c2_row8_col6\" class=\"data row8 col6\" >nan</td>\n",
       "      <td id=\"T_477c2_row8_col7\" class=\"data row8 col7\" >0.0170</td>\n",
       "    </tr>\n",
       "    <tr>\n",
       "      <th id=\"T_477c2_level0_row9\" class=\"row_heading level0 row9\" >huber</th>\n",
       "      <td id=\"T_477c2_row9_col0\" class=\"data row9 col0\" >Huber Regressor</td>\n",
       "      <td id=\"T_477c2_row9_col1\" class=\"data row9 col1\" >0.0000</td>\n",
       "      <td id=\"T_477c2_row9_col2\" class=\"data row9 col2\" >0.0000</td>\n",
       "      <td id=\"T_477c2_row9_col3\" class=\"data row9 col3\" >0.0000</td>\n",
       "      <td id=\"T_477c2_row9_col4\" class=\"data row9 col4\" >nan</td>\n",
       "      <td id=\"T_477c2_row9_col5\" class=\"data row9 col5\" >0.0001</td>\n",
       "      <td id=\"T_477c2_row9_col6\" class=\"data row9 col6\" >nan</td>\n",
       "      <td id=\"T_477c2_row9_col7\" class=\"data row9 col7\" >0.0170</td>\n",
       "    </tr>\n",
       "    <tr>\n",
       "      <th id=\"T_477c2_level0_row10\" class=\"row_heading level0 row10\" >knn</th>\n",
       "      <td id=\"T_477c2_row10_col0\" class=\"data row10 col0\" >K Neighbors Regressor</td>\n",
       "      <td id=\"T_477c2_row10_col1\" class=\"data row10 col1\" >0.5700</td>\n",
       "      <td id=\"T_477c2_row10_col2\" class=\"data row10 col2\" >0.3460</td>\n",
       "      <td id=\"T_477c2_row10_col3\" class=\"data row10 col3\" >0.5710</td>\n",
       "      <td id=\"T_477c2_row10_col4\" class=\"data row10 col4\" >nan</td>\n",
       "      <td id=\"T_477c2_row10_col5\" class=\"data row10 col5\" >0.3797</td>\n",
       "      <td id=\"T_477c2_row10_col6\" class=\"data row10 col6\" >nan</td>\n",
       "      <td id=\"T_477c2_row10_col7\" class=\"data row10 col7\" >0.0240</td>\n",
       "    </tr>\n",
       "    <tr>\n",
       "      <th id=\"T_477c2_level0_row11\" class=\"row_heading level0 row11\" >dt</th>\n",
       "      <td id=\"T_477c2_row11_col0\" class=\"data row11 col0\" >Decision Tree Regressor</td>\n",
       "      <td id=\"T_477c2_row11_col1\" class=\"data row11 col1\" >0.0000</td>\n",
       "      <td id=\"T_477c2_row11_col2\" class=\"data row11 col2\" >0.0000</td>\n",
       "      <td id=\"T_477c2_row11_col3\" class=\"data row11 col3\" >0.0000</td>\n",
       "      <td id=\"T_477c2_row11_col4\" class=\"data row11 col4\" >nan</td>\n",
       "      <td id=\"T_477c2_row11_col5\" class=\"data row11 col5\" >0.0001</td>\n",
       "      <td id=\"T_477c2_row11_col6\" class=\"data row11 col6\" >nan</td>\n",
       "      <td id=\"T_477c2_row11_col7\" class=\"data row11 col7\" >0.0120</td>\n",
       "    </tr>\n",
       "    <tr>\n",
       "      <th id=\"T_477c2_level0_row12\" class=\"row_heading level0 row12\" >rf</th>\n",
       "      <td id=\"T_477c2_row12_col0\" class=\"data row12 col0\" >Random Forest Regressor</td>\n",
       "      <td id=\"T_477c2_row12_col1\" class=\"data row12 col1\" >0.1720</td>\n",
       "      <td id=\"T_477c2_row12_col2\" class=\"data row12 col2\" >0.0526</td>\n",
       "      <td id=\"T_477c2_row12_col3\" class=\"data row12 col3\" >0.1734</td>\n",
       "      <td id=\"T_477c2_row12_col4\" class=\"data row12 col4\" >nan</td>\n",
       "      <td id=\"T_477c2_row12_col5\" class=\"data row12 col5\" >0.1373</td>\n",
       "      <td id=\"T_477c2_row12_col6\" class=\"data row12 col6\" >nan</td>\n",
       "      <td id=\"T_477c2_row12_col7\" class=\"data row12 col7\" >0.0430</td>\n",
       "    </tr>\n",
       "    <tr>\n",
       "      <th id=\"T_477c2_level0_row13\" class=\"row_heading level0 row13\" >et</th>\n",
       "      <td id=\"T_477c2_row13_col0\" class=\"data row13 col0\" >Extra Trees Regressor</td>\n",
       "      <td id=\"T_477c2_row13_col1\" class=\"data row13 col1\" >0.0000</td>\n",
       "      <td id=\"T_477c2_row13_col2\" class=\"data row13 col2\" >0.0000</td>\n",
       "      <td id=\"T_477c2_row13_col3\" class=\"data row13 col3\" >0.0000</td>\n",
       "      <td id=\"T_477c2_row13_col4\" class=\"data row13 col4\" >nan</td>\n",
       "      <td id=\"T_477c2_row13_col5\" class=\"data row13 col5\" >0.0001</td>\n",
       "      <td id=\"T_477c2_row13_col6\" class=\"data row13 col6\" >nan</td>\n",
       "      <td id=\"T_477c2_row13_col7\" class=\"data row13 col7\" >0.0340</td>\n",
       "    </tr>\n",
       "    <tr>\n",
       "      <th id=\"T_477c2_level0_row14\" class=\"row_heading level0 row14\" >ada</th>\n",
       "      <td id=\"T_477c2_row14_col0\" class=\"data row14 col0\" >AdaBoost Regressor</td>\n",
       "      <td id=\"T_477c2_row14_col1\" class=\"data row14 col1\" >0.2000</td>\n",
       "      <td id=\"T_477c2_row14_col2\" class=\"data row14 col2\" >0.2000</td>\n",
       "      <td id=\"T_477c2_row14_col3\" class=\"data row14 col3\" >0.2000</td>\n",
       "      <td id=\"T_477c2_row14_col4\" class=\"data row14 col4\" >nan</td>\n",
       "      <td id=\"T_477c2_row14_col5\" class=\"data row14 col5\" >0.1388</td>\n",
       "      <td id=\"T_477c2_row14_col6\" class=\"data row14 col6\" >nan</td>\n",
       "      <td id=\"T_477c2_row14_col7\" class=\"data row14 col7\" >0.0160</td>\n",
       "    </tr>\n",
       "    <tr>\n",
       "      <th id=\"T_477c2_level0_row15\" class=\"row_heading level0 row15\" >gbr</th>\n",
       "      <td id=\"T_477c2_row15_col0\" class=\"data row15 col0\" >Gradient Boosting Regressor</td>\n",
       "      <td id=\"T_477c2_row15_col1\" class=\"data row15 col1\" >0.0000</td>\n",
       "      <td id=\"T_477c2_row15_col2\" class=\"data row15 col2\" >0.0000</td>\n",
       "      <td id=\"T_477c2_row15_col3\" class=\"data row15 col3\" >0.0000</td>\n",
       "      <td id=\"T_477c2_row15_col4\" class=\"data row15 col4\" >nan</td>\n",
       "      <td id=\"T_477c2_row15_col5\" class=\"data row15 col5\" >0.0001</td>\n",
       "      <td id=\"T_477c2_row15_col6\" class=\"data row15 col6\" >nan</td>\n",
       "      <td id=\"T_477c2_row15_col7\" class=\"data row15 col7\" >0.0240</td>\n",
       "    </tr>\n",
       "    <tr>\n",
       "      <th id=\"T_477c2_level0_row16\" class=\"row_heading level0 row16\" >lightgbm</th>\n",
       "      <td id=\"T_477c2_row16_col0\" class=\"data row16 col0\" >Light Gradient Boosting Machine</td>\n",
       "      <td id=\"T_477c2_row16_col1\" class=\"data row16 col1\" >0.5244</td>\n",
       "      <td id=\"T_477c2_row16_col2\" class=\"data row16 col2\" >0.2958</td>\n",
       "      <td id=\"T_477c2_row16_col3\" class=\"data row16 col3\" >0.5244</td>\n",
       "      <td id=\"T_477c2_row16_col4\" class=\"data row16 col4\" >nan</td>\n",
       "      <td id=\"T_477c2_row16_col5\" class=\"data row16 col5\" >0.3491</td>\n",
       "      <td id=\"T_477c2_row16_col6\" class=\"data row16 col6\" >nan</td>\n",
       "      <td id=\"T_477c2_row16_col7\" class=\"data row16 col7\" >0.0220</td>\n",
       "    </tr>\n",
       "    <tr>\n",
       "      <th id=\"T_477c2_level0_row17\" class=\"row_heading level0 row17\" >dummy</th>\n",
       "      <td id=\"T_477c2_row17_col0\" class=\"data row17 col0\" >Dummy Regressor</td>\n",
       "      <td id=\"T_477c2_row17_col1\" class=\"data row17 col1\" >0.5244</td>\n",
       "      <td id=\"T_477c2_row17_col2\" class=\"data row17 col2\" >0.2958</td>\n",
       "      <td id=\"T_477c2_row17_col3\" class=\"data row17 col3\" >0.5244</td>\n",
       "      <td id=\"T_477c2_row17_col4\" class=\"data row17 col4\" >nan</td>\n",
       "      <td id=\"T_477c2_row17_col5\" class=\"data row17 col5\" >0.3491</td>\n",
       "      <td id=\"T_477c2_row17_col6\" class=\"data row17 col6\" >nan</td>\n",
       "      <td id=\"T_477c2_row17_col7\" class=\"data row17 col7\" >0.0140</td>\n",
       "    </tr>\n",
       "  </tbody>\n",
       "</table>\n"
      ],
      "text/plain": [
       "<pandas.io.formats.style.Styler at 0x11a9b3e8a50>"
      ]
     },
     "metadata": {},
     "output_type": "display_data"
    },
    {
     "data": {
      "text/html": [],
      "text/plain": [
       "<IPython.core.display.HTML object>"
      ]
     },
     "metadata": {},
     "output_type": "display_data"
    },
    {
     "name": "stdout",
     "output_type": "stream",
     "text": [
      "LinearRegression(copy_X=True, fit_intercept=True, n_jobs=-1, positive=False)\n"
     ]
    }
   ],
   "source": [
    "# Compare models\n",
    "try:\n",
    "    best_model = compare_models()\n",
    "except ValueError as e:\n",
    "    print(e)\n",
    "    best_model = None\n",
    "\n",
    "print(best_model)"
   ]
  },
  {
   "cell_type": "code",
   "execution_count": null,
   "metadata": {},
   "outputs": [
    {
     "data": {
      "text/html": [],
      "text/plain": [
       "<IPython.core.display.HTML object>"
      ]
     },
     "metadata": {},
     "output_type": "display_data"
    },
    {
     "data": {
      "text/html": [],
      "text/plain": [
       "<IPython.core.display.HTML object>"
      ]
     },
     "metadata": {},
     "output_type": "display_data"
    },
    {
     "data": {
      "text/html": [],
      "text/plain": [
       "<IPython.core.display.HTML object>"
      ]
     },
     "metadata": {},
     "output_type": "display_data"
    },
    {
     "name": "stdout",
     "output_type": "stream",
     "text": [
      "Fitting 10 folds for each of 2 candidates, totalling 20 fits\n",
      "Original model was better than the tuned model, hence it will be returned. NOTE: The display metrics are for the tuned model (not the original one).\n"
     ]
    },
    {
     "data": {
      "text/html": [
       "<style type=\"text/css\">\n",
       "</style>\n",
       "<table id=\"T_f092f\">\n",
       "  <thead>\n",
       "    <tr>\n",
       "      <th class=\"blank level0\" >&nbsp;</th>\n",
       "      <th id=\"T_f092f_level0_col0\" class=\"col_heading level0 col0\" >Model</th>\n",
       "      <th id=\"T_f092f_level0_col1\" class=\"col_heading level0 col1\" >MAE</th>\n",
       "      <th id=\"T_f092f_level0_col2\" class=\"col_heading level0 col2\" >MSE</th>\n",
       "      <th id=\"T_f092f_level0_col3\" class=\"col_heading level0 col3\" >RMSE</th>\n",
       "      <th id=\"T_f092f_level0_col4\" class=\"col_heading level0 col4\" >R2</th>\n",
       "      <th id=\"T_f092f_level0_col5\" class=\"col_heading level0 col5\" >RMSLE</th>\n",
       "      <th id=\"T_f092f_level0_col6\" class=\"col_heading level0 col6\" >MAPE</th>\n",
       "    </tr>\n",
       "  </thead>\n",
       "  <tbody>\n",
       "    <tr>\n",
       "      <th id=\"T_f092f_level0_row0\" class=\"row_heading level0 row0\" >0</th>\n",
       "      <td id=\"T_f092f_row0_col0\" class=\"data row0 col0\" >Linear Regression</td>\n",
       "      <td id=\"T_f092f_row0_col1\" class=\"data row0 col1\" >0.0000</td>\n",
       "      <td id=\"T_f092f_row0_col2\" class=\"data row0 col2\" >0.0000</td>\n",
       "      <td id=\"T_f092f_row0_col3\" class=\"data row0 col3\" >0.0000</td>\n",
       "      <td id=\"T_f092f_row0_col4\" class=\"data row0 col4\" >1.0000</td>\n",
       "      <td id=\"T_f092f_row0_col5\" class=\"data row0 col5\" >0.0001</td>\n",
       "      <td id=\"T_f092f_row0_col6\" class=\"data row0 col6\" >0.0000</td>\n",
       "    </tr>\n",
       "  </tbody>\n",
       "</table>\n"
      ],
      "text/plain": [
       "<pandas.io.formats.style.Styler at 0x11a9a5a8a90>"
      ]
     },
     "metadata": {},
     "output_type": "display_data"
    },
    {
     "data": {
      "application/vnd.jupyter.widget-view+json": {
       "model_id": "2b2af8f85aba469aa70dfef3f7473922",
       "version_major": 2,
       "version_minor": 0
      },
      "text/plain": [
       "interactive(children=(ToggleButtons(description='Plot Type:', icons=('',), options=(('Pipeline Plot', 'pipelin…"
      ]
     },
     "metadata": {},
     "output_type": "display_data"
    },
    {
     "name": "stdout",
     "output_type": "stream",
     "text": [
      "Transformation Pipeline and Model Successfully Saved\n"
     ]
    }
   ],
   "source": [
    "# Use Linear Regression if no valid model is found\n",
    "if best_model is not None:\n",
    "    tuned_model = tune_model(best_model)\n",
    "\n",
    "    # Predict and evaluate\n",
    "    predictions = predict_model(tuned_model)\n",
    "    evaluate_model(tuned_model)\n",
    "\n",
    "    # Save the model\n",
    "    save_model(tuned_model, 'model')\n",
    "else:\n",
    "    print(\"No valid model found, using Linear Regression instead.\")\n",
    "    # Initialize regression setup\n",
    "    exp_reg = setup(data=df, target='target', verbose=True, normalize=True)\n",
    "    \n",
    "    # Create and tune Linear Regression model\n",
    "    lr_model = create_model('lr')\n",
    "    tuned_lr_model = tune_model(lr_model)\n",
    "\n",
    "    # Predict and evaluate\n",
    "    predictions = predict_model(tuned_lr_model)\n",
    "    evaluate_model(tuned_lr_model)\n",
    "\n",
    "    # Save the Linear Regression model\n",
    "    save_model(tuned_lr_model, 'linear_regression_model')\n"
   ]
  },
  {
   "cell_type": "code",
   "execution_count": 28,
   "metadata": {},
   "outputs": [
    {
     "data": {
      "text/html": [],
      "text/plain": [
       "<IPython.core.display.HTML object>"
      ]
     },
     "metadata": {},
     "output_type": "display_data"
    },
    {
     "name": "stdout",
     "output_type": "stream",
     "text": [
      "    name  age  prediction_label\n",
      "0  David   28          0.580868\n",
      "1    Eva   22          0.478918\n"
     ]
    }
   ],
   "source": [
    "# Prepare new data for prediction\n",
    "new_data = pd.DataFrame({\n",
    "    'name': ['David', 'Eva'],\n",
    "    'age': [28, 22],\n",
    "})\n",
    "\n",
    "# Make predictions\n",
    "predictions = predict_model(tuned_model, data=new_data)\n",
    "print(predictions)\n"
   ]
  }
 ],
 "metadata": {
  "kernelspec": {
   "display_name": "venv",
   "language": "python",
   "name": "python3"
  },
  "language_info": {
   "codemirror_mode": {
    "name": "ipython",
    "version": 3
   },
   "file_extension": ".py",
   "mimetype": "text/x-python",
   "name": "python",
   "nbconvert_exporter": "python",
   "pygments_lexer": "ipython3",
   "version": "3.11.5"
  }
 },
 "nbformat": 4,
 "nbformat_minor": 2
}
